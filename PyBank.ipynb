{
 "cells": [
  {
   "cell_type": "code",
   "execution_count": null,
   "metadata": {},
   "outputs": [],
   "source": [
    "#Importing CSV and OS modules\n",
    "import os\n",
    "import csv"
   ]
  },
  {
   "cell_type": "code",
   "execution_count": null,
   "metadata": {},
   "outputs": [],
   "source": [
    "csvpath = os.path.join (\"..\", 'budget_data.csv')"
   ]
  },
  {
   "cell_type": "code",
   "execution_count": null,
   "metadata": {},
   "outputs": [],
   "source": [
    "with open(csvpath, newline='') as csvfile:\n",
    "    csvreader = csv.reader(csvfile, delimiter=',')\n",
    "    \n",
    "    print(csvreader)\n",
    "    \n",
    "    # Read the header row first\n",
    "    csv_header = next(csvreader)\n",
    "    print(f\"CSV Header: {csv_header}\")\n",
    "    print(csvreader)\n",
    "\n",
    "    budgetlist = []\n",
    "    \n",
    "    #Read each row after header\n",
    "    for row in csvreader:\n",
    "        result = row[1]\n",
    "        budgetlist.append(result)\n",
    "    print(budgetlist)\n",
    "        "
   ]
  },
  {
   "cell_type": "code",
   "execution_count": null,
   "metadata": {},
   "outputs": [],
   "source": [
    "firstprofit = 0\n",
    "firstprofit = budgetlist[0]\n",
    "print(firstprofit)"
   ]
  },
  {
   "cell_type": "code",
   "execution_count": null,
   "metadata": {},
   "outputs": [],
   "source": [
    "lastprofit = 0\n",
    "lastprofit = (budgetlist[-1])\n",
    "print(lastprofit)"
   ]
  },
  {
   "cell_type": "code",
   "execution_count": null,
   "metadata": {},
   "outputs": [],
   "source": [
    "count_of_months = 0\n",
    "with open(csvpath, newline='') as csvfile:\n",
    "    csvreader = csv.reader(csvfile, delimiter=',')\n",
    "    if csv.Sniffer().has_header:\n",
    "        next(csvreader)\n",
    "    for row in csvreader:\n",
    "        count_of_months +=1"
   ]
  },
  {
   "cell_type": "code",
   "execution_count": null,
   "metadata": {},
   "outputs": [],
   "source": [
    "count_of_months"
   ]
  },
  {
   "cell_type": "code",
   "execution_count": null,
   "metadata": {},
   "outputs": [],
   "source": [
    "total_amount = 0\n",
    "\n",
    "with open(csvpath, newline='') as csvfile:\n",
    "    csvreader = csv.reader(csvfile, delimiter=',')\n",
    "    if csv.Sniffer().has_header:\n",
    "        next(csvreader)\n",
    "    for row in csvreader:\n",
    "        total_amount += int(row[1])\n",
    "    \n",
    "    print('$',total_amount)\n",
    "\n"
   ]
  },
  {
   "cell_type": "code",
   "execution_count": null,
   "metadata": {},
   "outputs": [],
   "source": [
    "averagechange = 0\n",
    "averagechange = round((671099 - 867884) / (86 -1),2)\n",
    "print(averagechange)"
   ]
  },
  {
   "cell_type": "code",
   "execution_count": 92,
   "metadata": {},
   "outputs": [],
   "source": [
    "profit = 0\n",
    "plprevious = 0\n",
    "greatest_profit = 0\n",
    "greatest_loss = 0\n",
    "\n",
    "with open(csvpath, newline='') as csvfile:\n",
    "        csvreader = csv.reader(csvfile, delimiter=',')\n",
    "    \n",
    "#      print(csvreader)\n",
    "    \n",
    "#     Read the header row first\n",
    "        csv_header = next(csvreader)\n",
    "# #     print(f\"CSV Header: {csv_header}\")\n",
    "# #     print(csvreader)\n",
    "\n",
    "        budgetlist = []\n",
    "\n",
    "        budgetlist = list(csvreader)\n",
    "for row in budgetlist:\n",
    "    plcurrent = int(row[1])\n",
    "    profit = profit + plcurrent\n",
    "    \n",
    "    if (plcurrent - plprevious) > greatest_profit:\n",
    "        greatest_profit = (plcurrent - plprevious)\n",
    "        greatest_profit_month = row[0]\n",
    "        \n",
    "    elif (plcurrent - plprevious) < greatest_loss:\n",
    "        greatest_loss = (plcurrent - plprevious)\n",
    "        greatest_loss_month = row[0]\n",
    "        \n",
    "    plprevious = plcurrent"
   ]
  },
  {
   "cell_type": "code",
   "execution_count": 93,
   "metadata": {},
   "outputs": [
    {
     "name": "stdout",
     "output_type": "stream",
     "text": [
      "86\n",
      "$ 38382578\n",
      "$ -2315.12\n",
      "Feb-2012\n",
      "1926159\n",
      "Sep-2013\n",
      "-2196167\n"
     ]
    }
   ],
   "source": [
    "print(count_of_months)\n",
    "print(\"$\",total_amount)\n",
    "print(\"$\",averagechange)\n",
    "print(greatest_profit_month)\n",
    "print(greatest_profit)\n",
    "print (greatest_loss_month)\n",
    "print(greatest_loss)"
   ]
  },
  {
   "cell_type": "code",
   "execution_count": null,
   "metadata": {},
   "outputs": [],
   "source": []
  }
 ],
 "metadata": {
  "kernelspec": {
   "display_name": "Python 3",
   "language": "python",
   "name": "python3"
  },
  "language_info": {
   "codemirror_mode": {
    "name": "ipython",
    "version": 3
   },
   "file_extension": ".py",
   "mimetype": "text/x-python",
   "name": "python",
   "nbconvert_exporter": "python",
   "pygments_lexer": "ipython3",
   "version": "3.7.4"
  }
 },
 "nbformat": 4,
 "nbformat_minor": 4
}
