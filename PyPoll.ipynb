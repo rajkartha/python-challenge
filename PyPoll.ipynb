{
 "cells": [
  {
   "cell_type": "code",
   "execution_count": 24,
   "metadata": {},
   "outputs": [],
   "source": [
    "#Importing CSV and OS modules\n",
    "import os\n",
    "import csv"
   ]
  },
  {
   "cell_type": "code",
   "execution_count": 32,
   "metadata": {},
   "outputs": [],
   "source": [
    "csvpath = os.path.join (\"..\", 'election_data.csv')"
   ]
  },
  {
   "cell_type": "code",
   "execution_count": 63,
   "metadata": {},
   "outputs": [],
   "source": [
    "# we only need candidate and voter id columns to get the desired outputs\n",
    "#For readability lets assign these two variables for the columns incsv\n",
    "candidate_list = []\n",
    "candidate_votes = []\n",
    "total_votes = 0\n",
    "\n",
    "#Read in the csv file\n",
    "\n",
    "with open(csvpath, newline='') as csvfile:\n",
    "    \n",
    "    csvreader = csv.reader(csvfile, delimiter=',')\n",
    "    \n",
    "    header = next(csvreader)\n",
    "    \n",
    "#loop through each row\n",
    "    for row in csvreader:\n",
    "    # add all the votes\n",
    "        total_votes += 1\n",
    "    \n",
    "     # add the candidate name\n",
    "        candidate = row[2]\n",
    "    \n",
    "    # list the candidate names and their vote count\n",
    "    if candidate in candidate_list:\n",
    "        candidate_name = candidate_list.index(candidate)\n",
    "        candidate_votes[candidate_name] += 1\n",
    "    else:\n",
    "        # add candidate to list and add to vote count\n",
    "        candidate_list.append(candidate)\n",
    "        candidate_votes.append(1)\n",
    "\n",
    "# winner can be determined by finding the index that has the max vote count\n",
    "winner_name = candidate_votes.index(max(candidate_votes))"
   ]
  },
  {
   "cell_type": "code",
   "execution_count": 64,
   "metadata": {},
   "outputs": [
    {
     "name": "stdout",
     "output_type": "stream",
     "text": [
      "3521001\n",
      "Winner: O'Tooley\n"
     ]
    }
   ],
   "source": [
    "print(total_votes)\n",
    "print(\"Winner: {}\".format(candidate_list[winner_name]))"
   ]
  },
  {
   "cell_type": "code",
   "execution_count": null,
   "metadata": {},
   "outputs": [],
   "source": []
  }
 ],
 "metadata": {
  "kernelspec": {
   "display_name": "Python 3",
   "language": "python",
   "name": "python3"
  },
  "language_info": {
   "codemirror_mode": {
    "name": "ipython",
    "version": 3
   },
   "file_extension": ".py",
   "mimetype": "text/x-python",
   "name": "python",
   "nbconvert_exporter": "python",
   "pygments_lexer": "ipython3",
   "version": "3.7.4"
  }
 },
 "nbformat": 4,
 "nbformat_minor": 4
}
